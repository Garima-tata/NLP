{
  "cells": [
    {
      "cell_type": "markdown",
      "metadata": {
        "id": "3iKVSl7hDZJl"
      },
      "source": [
        "Use the following dataset - https://www.kaggle.com/lakshmi25npathi/imdb-dataset-of-50k-movie-reviews"
      ]
    },
    {
      "cell_type": "code",
      "execution_count": null,
      "metadata": {
        "id": "-MnjNsGhDfCA"
      },
      "outputs": [],
      "source": [
        "# Problem 1\n",
        "# Apply all the preprocessing techniques that you think are necessary"
      ]
    },
    {
      "cell_type": "code",
      "execution_count": null,
      "metadata": {
        "id": "VuVSlxaZDqsj"
      },
      "outputs": [],
      "source": [
        "# Problem 2\n",
        "# Find out the number of words in the entire corpus and also the total number of unique words(vocabulary) using just python"
      ]
    },
    {
      "cell_type": "code",
      "execution_count": null,
      "metadata": {
        "id": "B9BcW8aLD4nr"
      },
      "outputs": [],
      "source": [
        "# Problem 3\n",
        "# Apply One Hot Encoding"
      ]
    },
    {
      "cell_type": "code",
      "execution_count": null,
      "metadata": {
        "id": "tSQ9sf6NFSTb"
      },
      "outputs": [],
      "source": [
        "# Problem 4\n",
        "# Apply bag words and find the vocabulary also find the times each word has occured"
      ]
    },
    {
      "cell_type": "code",
      "execution_count": null,
      "metadata": {
        "id": "vR8LnGwZFbhD"
      },
      "outputs": [],
      "source": [
        "# Problem 5\n",
        "# Apply bag of bi-gram and bag of tri-gram and write down your observation about the dimensionality of the vocabulary"
      ]
    },
    {
      "cell_type": "markdown",
      "metadata": {
        "id": "coyvsD3OFrB4"
      },
      "source": [
        "# Problem 6\n",
        "# Apply tf-idf and find out the idf scores of words, also find out the vocabulary."
      ]
    },
    {
      "cell_type": "code",
      "execution_count": null,
      "metadata": {
        "id": "n7abDAiFF2Ij"
      },
      "outputs": [],
      "source": []
    }
  ],
  "metadata": {
    "colab": {
      "provenance": []
    },
    "kernelspec": {
      "display_name": "Python 3",
      "name": "python3"
    },
    "language_info": {
      "name": "python"
    }
  },
  "nbformat": 4,
  "nbformat_minor": 0
}
