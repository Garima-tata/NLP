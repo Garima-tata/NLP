{
 "cells": [
  {
   "cell_type": "code",
   "execution_count": 25,
   "metadata": {},
   "outputs": [
    {
     "data": {
      "text/plain": [
       "'\\nAPIs are Data Pipelines, they are used to get data from the web. \\nSo APIs are used to share data between different applications. \\n'"
      ]
     },
     "execution_count": 25,
     "metadata": {},
     "output_type": "execute_result"
    }
   ],
   "source": [
    "# 1. Create a dataset (only need name, description and genre)\n",
    "#2. Text Preprocessing on that\n",
    "# Multicalss classification\n",
    "\n",
    "\"\"\"\n",
    "name   | descrition of the movie            | genre\n",
    "\n",
    "3 idiot| 3 idiot is a movie about 3 friends | comedy\n",
    "\n",
    "using TMDB dataset Api\n",
    "\n",
    "convert it in dataframe and apply text preprocessing\n",
    "\"\"\"\n",
    "\n",
    "\"\"\"\n",
    "APIs are Data Pipelines, they are used to get data from the web. \n",
    "So APIs are used to share data between different applications. \n",
    "\"\"\""
   ]
  },
  {
   "attachments": {},
   "cell_type": "markdown",
   "metadata": {},
   "source": [
    "# 1. Create a dataset\n"
   ]
  },
  {
   "cell_type": "code",
   "execution_count": 26,
   "metadata": {},
   "outputs": [],
   "source": [
    "import pandas as pd\n",
    "import numpy as np"
   ]
  },
  {
   "cell_type": "code",
   "execution_count": 27,
   "metadata": {},
   "outputs": [
    {
     "data": {
      "text/html": [
       "<div>\n",
       "<style scoped>\n",
       "    .dataframe tbody tr th:only-of-type {\n",
       "        vertical-align: middle;\n",
       "    }\n",
       "\n",
       "    .dataframe tbody tr th {\n",
       "        vertical-align: top;\n",
       "    }\n",
       "\n",
       "    .dataframe thead th {\n",
       "        text-align: right;\n",
       "    }\n",
       "</style>\n",
       "<table border=\"1\" class=\"dataframe\">\n",
       "  <thead>\n",
       "    <tr style=\"text-align: right;\">\n",
       "      <th></th>\n",
       "      <th>adult</th>\n",
       "      <th>backdrop_path</th>\n",
       "      <th>genre</th>\n",
       "      <th>id</th>\n",
       "      <th>original_language</th>\n",
       "      <th>original_title</th>\n",
       "      <th>overview</th>\n",
       "      <th>popularity</th>\n",
       "      <th>poster_path</th>\n",
       "      <th>release_date</th>\n",
       "      <th>title</th>\n",
       "      <th>video</th>\n",
       "      <th>vote_average</th>\n",
       "      <th>vote_count</th>\n",
       "    </tr>\n",
       "  </thead>\n",
       "  <tbody>\n",
       "    <tr>\n",
       "      <th>0</th>\n",
       "      <td>False</td>\n",
       "      <td>/tmU7GeKVybMWFButWEGl2M4GeiP.jpg</td>\n",
       "      <td>['Drama', 'Crime']</td>\n",
       "      <td>238</td>\n",
       "      <td>en</td>\n",
       "      <td>The Godfather</td>\n",
       "      <td>Spanning the years 1945 to 1955, a chronicle o...</td>\n",
       "      <td>116.429</td>\n",
       "      <td>/3bhkrj58Vtu7enYsRolD1fZdja1.jpg</td>\n",
       "      <td>1972-03-14</td>\n",
       "      <td>The Godfather</td>\n",
       "      <td>False</td>\n",
       "      <td>8.7</td>\n",
       "      <td>18805</td>\n",
       "    </tr>\n",
       "    <tr>\n",
       "      <th>1</th>\n",
       "      <td>False</td>\n",
       "      <td>/kXfqcdQKsToO0OUXHcrrNCHDBzO.jpg</td>\n",
       "      <td>['Drama', 'Crime']</td>\n",
       "      <td>278</td>\n",
       "      <td>en</td>\n",
       "      <td>The Shawshank Redemption</td>\n",
       "      <td>Framed in the 1940s for the double murder of h...</td>\n",
       "      <td>105.427</td>\n",
       "      <td>/lyQBXzOQSuE59IsHyhrp0qIiPAz.jpg</td>\n",
       "      <td>1994-09-23</td>\n",
       "      <td>The Shawshank Redemption</td>\n",
       "      <td>False</td>\n",
       "      <td>8.7</td>\n",
       "      <td>24783</td>\n",
       "    </tr>\n",
       "    <tr>\n",
       "      <th>2</th>\n",
       "      <td>False</td>\n",
       "      <td>/kGzFbGhp99zva6oZODW5atUtnqi.jpg</td>\n",
       "      <td>['Drama', 'Crime']</td>\n",
       "      <td>240</td>\n",
       "      <td>en</td>\n",
       "      <td>The Godfather Part II</td>\n",
       "      <td>In the continuing saga of the Corleone crime f...</td>\n",
       "      <td>68.600</td>\n",
       "      <td>/hek3koDUyRQk7FIhPXsa6mT2Zc3.jpg</td>\n",
       "      <td>1974-12-20</td>\n",
       "      <td>The Godfather Part II</td>\n",
       "      <td>False</td>\n",
       "      <td>8.6</td>\n",
       "      <td>11367</td>\n",
       "    </tr>\n",
       "    <tr>\n",
       "      <th>3</th>\n",
       "      <td>False</td>\n",
       "      <td>/zb6fM1CX41D9rF9hdgclu0peUmy.jpg</td>\n",
       "      <td>['Drama', 'History', 'War']</td>\n",
       "      <td>424</td>\n",
       "      <td>en</td>\n",
       "      <td>Schindler's List</td>\n",
       "      <td>The true story of how businessman Oskar Schind...</td>\n",
       "      <td>72.058</td>\n",
       "      <td>/sF1U4EUQS8YHUYjNl3pMGNIQyr0.jpg</td>\n",
       "      <td>1993-12-15</td>\n",
       "      <td>Schindler's List</td>\n",
       "      <td>False</td>\n",
       "      <td>8.6</td>\n",
       "      <td>14686</td>\n",
       "    </tr>\n",
       "    <tr>\n",
       "      <th>4</th>\n",
       "      <td>False</td>\n",
       "      <td>/vI3aUGTuRRdM7J78KIdW98LdxE5.jpg</td>\n",
       "      <td>['Comedy', 'Drama', 'Romance']</td>\n",
       "      <td>19404</td>\n",
       "      <td>hi</td>\n",
       "      <td>दिलवाले दुल्हनिया ले जायेंगे</td>\n",
       "      <td>Raj is a rich, carefree, happy-go-lucky second...</td>\n",
       "      <td>34.449</td>\n",
       "      <td>/ktejodbcdCPXbMMdnpI9BUxW6O8.jpg</td>\n",
       "      <td>1995-10-20</td>\n",
       "      <td>Dilwale Dulhania Le Jayenge</td>\n",
       "      <td>False</td>\n",
       "      <td>8.6</td>\n",
       "      <td>4266</td>\n",
       "    </tr>\n",
       "  </tbody>\n",
       "</table>\n",
       "</div>"
      ],
      "text/plain": [
       "   adult                     backdrop_path                           genre  \\\n",
       "0  False  /tmU7GeKVybMWFButWEGl2M4GeiP.jpg              ['Drama', 'Crime']   \n",
       "1  False  /kXfqcdQKsToO0OUXHcrrNCHDBzO.jpg              ['Drama', 'Crime']   \n",
       "2  False  /kGzFbGhp99zva6oZODW5atUtnqi.jpg              ['Drama', 'Crime']   \n",
       "3  False  /zb6fM1CX41D9rF9hdgclu0peUmy.jpg     ['Drama', 'History', 'War']   \n",
       "4  False  /vI3aUGTuRRdM7J78KIdW98LdxE5.jpg  ['Comedy', 'Drama', 'Romance']   \n",
       "\n",
       "      id original_language                original_title  \\\n",
       "0    238                en                 The Godfather   \n",
       "1    278                en      The Shawshank Redemption   \n",
       "2    240                en         The Godfather Part II   \n",
       "3    424                en              Schindler's List   \n",
       "4  19404                hi  दिलवाले दुल्हनिया ले जायेंगे   \n",
       "\n",
       "                                            overview  popularity  \\\n",
       "0  Spanning the years 1945 to 1955, a chronicle o...     116.429   \n",
       "1  Framed in the 1940s for the double murder of h...     105.427   \n",
       "2  In the continuing saga of the Corleone crime f...      68.600   \n",
       "3  The true story of how businessman Oskar Schind...      72.058   \n",
       "4  Raj is a rich, carefree, happy-go-lucky second...      34.449   \n",
       "\n",
       "                        poster_path release_date                        title  \\\n",
       "0  /3bhkrj58Vtu7enYsRolD1fZdja1.jpg   1972-03-14                The Godfather   \n",
       "1  /lyQBXzOQSuE59IsHyhrp0qIiPAz.jpg   1994-09-23     The Shawshank Redemption   \n",
       "2  /hek3koDUyRQk7FIhPXsa6mT2Zc3.jpg   1974-12-20        The Godfather Part II   \n",
       "3  /sF1U4EUQS8YHUYjNl3pMGNIQyr0.jpg   1993-12-15             Schindler's List   \n",
       "4  /ktejodbcdCPXbMMdnpI9BUxW6O8.jpg   1995-10-20  Dilwale Dulhania Le Jayenge   \n",
       "\n",
       "   video  vote_average  vote_count  \n",
       "0  False           8.7       18805  \n",
       "1  False           8.7       24783  \n",
       "2  False           8.6       11367  \n",
       "3  False           8.6       14686  \n",
       "4  False           8.6        4266  "
      ]
     },
     "execution_count": 27,
     "metadata": {},
     "output_type": "execute_result"
    }
   ],
   "source": [
    "df = pd.read_csv('dataset/movies_with_genres.csv')\n",
    "df.head()"
   ]
  },
  {
   "cell_type": "code",
   "execution_count": 28,
   "metadata": {},
   "outputs": [],
   "source": [
    "df = df[['original_title', 'overview', 'genre']]\n",
    "# df\n",
    "# df.to_csv('Movie_Dataset.csv', index=False)"
   ]
  },
  {
   "cell_type": "code",
   "execution_count": 29,
   "metadata": {},
   "outputs": [
    {
     "data": {
      "text/plain": [
       "'Rihito Sajo, an honor student with a perfect score on the entrance exam and Hikaru Kusakabe, in a band and popular among girls, would have never crossed paths. Until one day they started talking at the practice for their school’s upcoming chorus festival. After school, the two meet regularly, as Hikaru helps Rihito to improve his singing skills. While they listen to each other’s voice and harmonize, their hearts start to beat together.'"
      ]
     },
     "execution_count": 29,
     "metadata": {},
     "output_type": "execute_result"
    }
   ],
   "source": [
    "df['overview'][30]"
   ]
  },
  {
   "attachments": {},
   "cell_type": "markdown",
   "metadata": {},
   "source": [
    "# Text Preprocessing on My Own Data\n"
   ]
  },
  {
   "cell_type": "code",
   "execution_count": 30,
   "metadata": {},
   "outputs": [],
   "source": [
    "# lower()\n",
    "df['overview'] = df['overview'].str.lower()\n",
    "\n",
    "# remove special characters\n"
   ]
  },
  {
   "attachments": {},
   "cell_type": "markdown",
   "metadata": {},
   "source": [
    "# Multiclass classification"
   ]
  },
  {
   "attachments": {},
   "cell_type": "markdown",
   "metadata": {},
   "source": [
    "df"
   ]
  },
  {
   "cell_type": "code",
   "execution_count": null,
   "metadata": {},
   "outputs": [],
   "source": []
  },
  {
   "attachments": {},
   "cell_type": "markdown",
   "metadata": {},
   "source": []
  }
 ],
 "metadata": {
  "kernelspec": {
   "display_name": "Python 3",
   "language": "python",
   "name": "python3"
  },
  "language_info": {
   "codemirror_mode": {
    "name": "ipython",
    "version": 3
   },
   "file_extension": ".py",
   "mimetype": "text/x-python",
   "name": "python",
   "nbconvert_exporter": "python",
   "pygments_lexer": "ipython3",
   "version": "3.10.9"
  },
  "orig_nbformat": 4
 },
 "nbformat": 4,
 "nbformat_minor": 2
}
